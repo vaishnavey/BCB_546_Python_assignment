{
 "cells": [
  {
   "cell_type": "code",
   "execution_count": 19,
   "id": "27181f30-0438-4657-8547-1ca462698d9c",
   "metadata": {
    "tags": []
   },
   "outputs": [],
   "source": [
    "#imports\n",
    "from Bio import SeqIO\n",
    "from Bio.Data import CodonTable\n",
    "import pandas as pd\n"
   ]
  },
  {
   "cell_type": "markdown",
   "id": "98c87441-1ac5-4d4d-95c8-b18077400a1a",
   "metadata": {},
   "source": [
    "1.Function that translates a string of nucleotides to amino acids "
   ]
  },
  {
   "cell_type": "raw",
   "id": "5aa8e7ea-7b71-420f-a265-aab4c964d379",
   "metadata": {},
   "source": [
    "## 1 ##\n",
    "####### GET SEQUENCES FUNCTION ########\n",
    "## Dr. X: this gets sequences \n",
    "## Please properly document this function in the Jupyter notebook \n",
    "## Your descriptions of all functions should contain information about what the function does,\n",
    "## as well as information about the return types and arguments.\n",
    "def get_sequences_from_file(fasta_fn):\n",
    "    sequence_data_dict = {}\n",
    "    for record in SeqIO.parse(fasta_fn, \"fasta\"):\n",
    "        description = record.description.split()\n",
    "        species_name = description[1] + \" \" + description[2]\n",
    "        sequence_data_dict[species_name] = record.seq\n",
    "    return(sequence_data_dict)"
   ]
  },
  {
   "cell_type": "code",
   "execution_count": 2,
   "id": "a625b98b-9a61-4456-aa5b-f7135dfa90eb",
   "metadata": {},
   "outputs": [],
   "source": [
    "def get_sequences_from_file(fasta_fn): #this function is to extract sequences from the input file\n",
    "    sequence_data_dict = {}  #initialize an empty dictionary to store sequences with their headers\n",
    "    for record in SeqIO.parse(fasta_fn, \"fasta\"): #takes every entry in the fasta file\n",
    "        description = record.description.split() #the contents of each header are split\n",
    "        species_name = description[1] + \" \" + description[2] # the first and second index of the header denotes the genus and species\n",
    "        sequence_data_dict[species_name] = record.seq # the species name is stored to a dictionary\n",
    "    return(sequence_data_dict) #returns the dictionary as output"
   ]
  },
  {
   "cell_type": "raw",
   "id": "8f97eac0-ffd5-416b-80ff-82cb0dd67258",
   "metadata": {},
   "source": [
    "## 2 ##\n",
    "####### YOUR STRING-TRANSLATE FUNCTION ########\n",
    "## Write a function that translates sequences\n",
    "## All sequences start at codon position 1\n",
    "## Complete a function that translates using a loop over the string of nucleotides\n",
    "## Here is  some pseudo-code and suggestions\n",
    "## feel free to change the function and variable names\n",
    "# def translate_function(string_nucleotides): \n",
    "#     mito_table = CodonTable.unambiguous_dna_by_name[\"Vertebrate Mitochondrial\"] # this should work using BioPython (be sure to check what this returns)\n",
    "#     for-loop through every 3rd position in string_nucleotides to get the codon using range subsets\n",
    "#         # IMPORTANT: if the sequence has a stop codon at the end, you should leave it off\n",
    "#         # this is how you can retrieve the amino acid: mito_table.forward_table[codon]\n",
    "#         add the aa to aa_seq_string\n",
    "#     return(aa_seq_string)"
   ]
  },
  {
   "cell_type": "code",
   "execution_count": 14,
   "id": "a5f4caf0-17b8-459e-8079-59ec5ca99507",
   "metadata": {},
   "outputs": [],
   "source": [
    "def translate_function(string_nucleotides): \n",
    "    mito_table = CodonTable.unambiguous_dna_by_name[\"Vertebrate Mitochondrial\"]  # Extract codon table\n",
    "    aa_seq_string = ''  # Initialize an empty string to store the translated AA\n",
    "    # for loop through every 3rd position in string_nucleotides to get codons\n",
    "    for position in range(0, len(string_nucleotides) - 2, 3):\n",
    "        codon = string_nucleotides[position:position+3]\n",
    "        if codon in mito_table.stop_codons:\n",
    "            break  # Stop translation at the first stop codon\n",
    "        aa = mito_table.forward_table.get(codon, 'X')  # Retrieve an AA; 'X' if unknown\n",
    "        aa_seq_string += aa  \n",
    "    return aa_seq_string"
   ]
  },
  {
   "cell_type": "raw",
   "id": "f2c0fcac-d41d-46df-b470-d37fb0872f0a",
   "metadata": {},
   "source": [
    "## 3 ##\n",
    "####### YOUR ALTERNATIVE FUNCTION ########\n",
    "## Is there a better way to write the translation function? (Hint: yes there is.) \n",
    "## Perhaps using available BioPython library utilities?\n",
    "## Please also write this function."
   ]
  },
  {
   "cell_type": "code",
   "execution_count": 29,
   "id": "c1fdf846-b8e4-4aee-bddd-b02cb86b3582",
   "metadata": {},
   "outputs": [],
   "source": [
    "#we shall use the in-built biopython tranlate function\n",
    "def faster_translate(string_nucleotides): \n",
    "    data=[]\n",
    "    for species, seq in sequence_data_dict.items():\n",
    "        my_seq = Seq(str(seq))\n",
    "        translated = my_seq.translate()  # Convert Seq object to string and translate\n",
    "        data.append({\"species\": species, \"protein_sequence\": translated})"
   ]
  },
  {
   "cell_type": "raw",
   "id": "d3c97174-ab8f-492e-8a38-aaa691a1849c",
   "metadata": {},
   "source": [
    "## 4 ##\n",
    "####### YOUR COUNT AA ANALYSIS FUNCTION ########\n",
    "## Write a function that calculates the molecular weight of each amino acid sequence.\n",
    "## For this, you can use some BioPython functions. I think you can use the ProtParam module.\n",
    "## For more info, check this out: http://biopython.org/wiki/ProtParam\n",
    "## So you should import the following before defining your function:\n",
    "from Bio.SeqUtils.ProtParam import ProteinAnalysis\n",
    "# def compute_molecular_weight(aa_seq):\n",
    "#     # I think the ProtParam functions may require aa_seq to be a string.\n",
    "#     # It may not work if the amino acid sequence has stop codons.\n",
    "#     run the ProteinAnalysis() function on aa_seq\n",
    "#\t  return the molecular weight"
   ]
  },
  {
   "cell_type": "code",
   "execution_count": 21,
   "id": "2d5b011b-329e-4e70-be6d-23f9d314b67b",
   "metadata": {},
   "outputs": [],
   "source": [
    "from Bio.SeqUtils.ProtParam import ProteinAnalysis"
   ]
  },
  {
   "cell_type": "code",
   "execution_count": 22,
   "id": "f1754bc5-8dcb-44de-879e-3e081cfdf22a",
   "metadata": {},
   "outputs": [],
   "source": [
    "def compute_molecular_weight(aa_seq):\n",
    "    aa_seq=str(aa_seq) #ProtParam functions may require aa_seq to be a string.\n",
    "    aa_seq=aa_seq.replace('*','') #to remove stop codon if any\n",
    "    weight=ProteinAnalysis(aa_seq).molecular_weight()\n",
    "    return weight"
   ]
  },
  {
   "cell_type": "raw",
   "id": "96bbbaab-84c2-401a-815c-0523ddace867",
   "metadata": {},
   "source": [
    "## 5 ##\n",
    "####### YOUR GC CONTENT ANALYSIS FUNCTION ########\n",
    "## Write a function that calculates the GC-content (proportion of \"G\" and \"C\") of each DNA sequence and returns this value."
   ]
  },
  {
   "cell_type": "code",
   "execution_count": 25,
   "id": "9b675784-5769-4e78-86b1-ff42f99033d8",
   "metadata": {},
   "outputs": [],
   "source": [
    "from Bio.SeqUtils import gc_fraction"
   ]
  },
  {
   "cell_type": "code",
   "execution_count": 46,
   "id": "456a30d4-2e92-4d4c-bef9-8b8d090884dd",
   "metadata": {},
   "outputs": [],
   "source": [
    "def gc_content(seq):\n",
    "    return gc_fraction(str(seq)) * 100"
   ]
  },
  {
   "cell_type": "markdown",
   "id": "28397c3a-72dc-4426-804d-9c7e6ec795b5",
   "metadata": {},
   "source": [
    "Main function"
   ]
  },
  {
   "cell_type": "code",
   "execution_count": null,
   "id": "dc1cfd0a-1186-4850-bff7-e40064338523",
   "metadata": {},
   "outputs": [],
   "source": [
    "cytb_seqs = get_sequences_from_file(\"penguins_cytb.fasta\") \n",
    "penguins_df = pd.read_csv(\"penguins_mass.csv\") # Includes only data for body mass \n",
    "species_list = list(penguins_df.species)\n"
   ]
  },
  {
   "cell_type": "code",
   "execution_count": 34,
   "id": "7b102274-dd71-4b98-b28a-647284a7e44a",
   "metadata": {},
   "outputs": [
    {
     "data": {
      "text/html": [
       "<div>\n",
       "<style scoped>\n",
       "    .dataframe tbody tr th:only-of-type {\n",
       "        vertical-align: middle;\n",
       "    }\n",
       "\n",
       "    .dataframe tbody tr th {\n",
       "        vertical-align: top;\n",
       "    }\n",
       "\n",
       "    .dataframe thead th {\n",
       "        text-align: right;\n",
       "    }\n",
       "</style>\n",
       "<table border=\"1\" class=\"dataframe\">\n",
       "  <thead>\n",
       "    <tr style=\"text-align: right;\">\n",
       "      <th></th>\n",
       "      <th>species</th>\n",
       "      <th>mass</th>\n",
       "    </tr>\n",
       "  </thead>\n",
       "  <tbody>\n",
       "    <tr>\n",
       "      <th>0</th>\n",
       "      <td>Aptenodytes forsteri</td>\n",
       "      <td>28.00</td>\n",
       "    </tr>\n",
       "    <tr>\n",
       "      <th>1</th>\n",
       "      <td>Aptenodytes patagonicus</td>\n",
       "      <td>13.40</td>\n",
       "    </tr>\n",
       "    <tr>\n",
       "      <th>2</th>\n",
       "      <td>Eudyptes chrysocome</td>\n",
       "      <td>2.80</td>\n",
       "    </tr>\n",
       "    <tr>\n",
       "      <th>3</th>\n",
       "      <td>Eudyptes chrysolophus</td>\n",
       "      <td>4.50</td>\n",
       "    </tr>\n",
       "    <tr>\n",
       "      <th>4</th>\n",
       "      <td>Eudyptes sclateri</td>\n",
       "      <td>4.25</td>\n",
       "    </tr>\n",
       "  </tbody>\n",
       "</table>\n",
       "</div>"
      ],
      "text/plain": [
       "                   species   mass\n",
       "0     Aptenodytes forsteri  28.00\n",
       "1  Aptenodytes patagonicus  13.40\n",
       "2      Eudyptes chrysocome   2.80\n",
       "3    Eudyptes chrysolophus   4.50\n",
       "4        Eudyptes sclateri   4.25"
      ]
     },
     "execution_count": 34,
     "metadata": {},
     "output_type": "execute_result"
    }
   ],
   "source": [
    "penguins_df.head()"
   ]
  },
  {
   "cell_type": "code",
   "execution_count": 38,
   "id": "adfffa18-6e0a-432a-9f6d-6551c95577ad",
   "metadata": {},
   "outputs": [
    {
     "data": {
      "text/plain": [
       "['Aptenodytes forsteri',\n",
       " 'Aptenodytes patagonicus',\n",
       " 'Eudyptes chrysocome',\n",
       " 'Eudyptes chrysolophus',\n",
       " 'Eudyptes sclateri',\n",
       " 'Eudyptula minor',\n",
       " 'Pygoscelis adeliae',\n",
       " 'Pygoscelis antarctica',\n",
       " 'Pygoscelis papua',\n",
       " 'Spheniscus demersus',\n",
       " 'Spheniscus humboldti',\n",
       " 'Spheniscus magellanicus']"
      ]
     },
     "execution_count": 38,
     "metadata": {},
     "output_type": "execute_result"
    }
   ],
   "source": [
    "species_list"
   ]
  },
  {
   "cell_type": "raw",
   "id": "2de9787e-5b10-41b0-96ea-62a61e92cdbf",
   "metadata": {},
   "source": [
    "## 6 ## \n",
    "## Add two new columns to the penguin DataFrame: (1) molecular weight and (2) GC content.\n",
    "## Set the value to 'NaN' to indicate that these cells are currently empty.\n"
   ]
  },
  {
   "cell_type": "code",
   "execution_count": 39,
   "id": "103a00b9-5141-4cc6-9027-06bca29ce50f",
   "metadata": {},
   "outputs": [],
   "source": [
    "import numpy as np\n",
    "\n",
    "penguins_df[\"molecular_weight\"] = np.nan\n",
    "penguins_df[\"gc_content\"] = np.nan"
   ]
  },
  {
   "cell_type": "code",
   "execution_count": 40,
   "id": "62637e81-44ba-409e-8c0a-78510e164311",
   "metadata": {},
   "outputs": [
    {
     "data": {
      "text/html": [
       "<div>\n",
       "<style scoped>\n",
       "    .dataframe tbody tr th:only-of-type {\n",
       "        vertical-align: middle;\n",
       "    }\n",
       "\n",
       "    .dataframe tbody tr th {\n",
       "        vertical-align: top;\n",
       "    }\n",
       "\n",
       "    .dataframe thead th {\n",
       "        text-align: right;\n",
       "    }\n",
       "</style>\n",
       "<table border=\"1\" class=\"dataframe\">\n",
       "  <thead>\n",
       "    <tr style=\"text-align: right;\">\n",
       "      <th></th>\n",
       "      <th>species</th>\n",
       "      <th>mass</th>\n",
       "      <th>molecular_weight</th>\n",
       "      <th>gc_content</th>\n",
       "    </tr>\n",
       "  </thead>\n",
       "  <tbody>\n",
       "    <tr>\n",
       "      <th>0</th>\n",
       "      <td>Aptenodytes forsteri</td>\n",
       "      <td>28.00</td>\n",
       "      <td>NaN</td>\n",
       "      <td>NaN</td>\n",
       "    </tr>\n",
       "    <tr>\n",
       "      <th>1</th>\n",
       "      <td>Aptenodytes patagonicus</td>\n",
       "      <td>13.40</td>\n",
       "      <td>NaN</td>\n",
       "      <td>NaN</td>\n",
       "    </tr>\n",
       "    <tr>\n",
       "      <th>2</th>\n",
       "      <td>Eudyptes chrysocome</td>\n",
       "      <td>2.80</td>\n",
       "      <td>NaN</td>\n",
       "      <td>NaN</td>\n",
       "    </tr>\n",
       "    <tr>\n",
       "      <th>3</th>\n",
       "      <td>Eudyptes chrysolophus</td>\n",
       "      <td>4.50</td>\n",
       "      <td>NaN</td>\n",
       "      <td>NaN</td>\n",
       "    </tr>\n",
       "    <tr>\n",
       "      <th>4</th>\n",
       "      <td>Eudyptes sclateri</td>\n",
       "      <td>4.25</td>\n",
       "      <td>NaN</td>\n",
       "      <td>NaN</td>\n",
       "    </tr>\n",
       "  </tbody>\n",
       "</table>\n",
       "</div>"
      ],
      "text/plain": [
       "                   species   mass  molecular_weight  gc_content\n",
       "0     Aptenodytes forsteri  28.00               NaN         NaN\n",
       "1  Aptenodytes patagonicus  13.40               NaN         NaN\n",
       "2      Eudyptes chrysocome   2.80               NaN         NaN\n",
       "3    Eudyptes chrysolophus   4.50               NaN         NaN\n",
       "4        Eudyptes sclateri   4.25               NaN         NaN"
      ]
     },
     "execution_count": 40,
     "metadata": {},
     "output_type": "execute_result"
    }
   ],
   "source": [
    "penguins_df.head()"
   ]
  },
  {
   "cell_type": "code",
   "execution_count": 41,
   "id": "18873303-c1b8-467c-9315-ef52bd46fa98",
   "metadata": {},
   "outputs": [],
   "source": [
    "sequence_dict = dict(cytb_seqs) "
   ]
  },
  {
   "cell_type": "raw",
   "id": "8462ec68-0c48-49e3-8f82-7aab556e963b",
   "metadata": {},
   "source": [
    "## 7 ##\n",
    "## Write a for-loop that translates each sequence and also gets molecular weight and computes the GC content\n",
    "## of each translated sequence and adds those data to DataFrame\n",
    "# for key, value in cytb_seqs.items():\n",
    "#     aa_seq = nuc2aa_translate_function(value) # whichever function you prefer of #2 or #3\n",
    "#     get the molecular weight of aa_seq\n",
    "#     get the GC content of the DNA sequence\n",
    "#     fill in empty cells in DF that you created above"
   ]
  },
  {
   "cell_type": "code",
   "execution_count": 54,
   "id": "3cc31e54-1b44-4656-983c-0d26339d7e89",
   "metadata": {},
   "outputs": [],
   "source": [
    "for species_name, nucleotide_seq in cytb_seqs.items():\n",
    "    aa_seq = translate_function(nucleotide_seq)\n",
    "    mol_weight = compute_molecular_weight(aa_seq)\n",
    "    gc = gc_content(nucleotide_seq)\n",
    "    penguins_df.loc[penguins_df[\"species\"] == species_name, \"molecular_weight\"] = mol_weight\n",
    "    penguins_df.loc[penguins_df[\"species\"] == species_name, \"gc_content\"] = gc"
   ]
  },
  {
   "cell_type": "code",
   "execution_count": 48,
   "id": "d2b34a12-5532-4408-baa9-ae2244b9e2df",
   "metadata": {},
   "outputs": [
    {
     "data": {
      "text/html": [
       "<div>\n",
       "<style scoped>\n",
       "    .dataframe tbody tr th:only-of-type {\n",
       "        vertical-align: middle;\n",
       "    }\n",
       "\n",
       "    .dataframe tbody tr th {\n",
       "        vertical-align: top;\n",
       "    }\n",
       "\n",
       "    .dataframe thead th {\n",
       "        text-align: right;\n",
       "    }\n",
       "</style>\n",
       "<table border=\"1\" class=\"dataframe\">\n",
       "  <thead>\n",
       "    <tr style=\"text-align: right;\">\n",
       "      <th></th>\n",
       "      <th>species</th>\n",
       "      <th>mass</th>\n",
       "      <th>molecular_weight</th>\n",
       "      <th>gc_content</th>\n",
       "    </tr>\n",
       "  </thead>\n",
       "  <tbody>\n",
       "    <tr>\n",
       "      <th>0</th>\n",
       "      <td>Aptenodytes forsteri</td>\n",
       "      <td>28.00</td>\n",
       "      <td>42459.6021</td>\n",
       "      <td>48.381452</td>\n",
       "    </tr>\n",
       "    <tr>\n",
       "      <th>1</th>\n",
       "      <td>Aptenodytes patagonicus</td>\n",
       "      <td>13.40</td>\n",
       "      <td>42563.7067</td>\n",
       "      <td>49.693788</td>\n",
       "    </tr>\n",
       "    <tr>\n",
       "      <th>2</th>\n",
       "      <td>Eudyptes chrysocome</td>\n",
       "      <td>2.80</td>\n",
       "      <td>42475.5753</td>\n",
       "      <td>51.181102</td>\n",
       "    </tr>\n",
       "    <tr>\n",
       "      <th>3</th>\n",
       "      <td>Eudyptes chrysolophus</td>\n",
       "      <td>4.50</td>\n",
       "      <td>42445.5493</td>\n",
       "      <td>50.918635</td>\n",
       "    </tr>\n",
       "    <tr>\n",
       "      <th>4</th>\n",
       "      <td>Eudyptes sclateri</td>\n",
       "      <td>4.25</td>\n",
       "      <td>42475.5753</td>\n",
       "      <td>50.831146</td>\n",
       "    </tr>\n",
       "  </tbody>\n",
       "</table>\n",
       "</div>"
      ],
      "text/plain": [
       "                   species   mass  molecular_weight  gc_content\n",
       "0     Aptenodytes forsteri  28.00        42459.6021   48.381452\n",
       "1  Aptenodytes patagonicus  13.40        42563.7067   49.693788\n",
       "2      Eudyptes chrysocome   2.80        42475.5753   51.181102\n",
       "3    Eudyptes chrysolophus   4.50        42445.5493   50.918635\n",
       "4        Eudyptes sclateri   4.25        42475.5753   50.831146"
      ]
     },
     "execution_count": 48,
     "metadata": {},
     "output_type": "execute_result"
    }
   ],
   "source": [
    "penguins_df.head()"
   ]
  },
  {
   "cell_type": "raw",
   "id": "9050a172-4134-437d-96ed-0c1a22ccdbb8",
   "metadata": {},
   "source": [
    "## 8 ##\n",
    "## Plot a bar-chart of the mass with the x-axes labeled with species names.\n",
    "## *Q1* What is the smallest penguin species? \n",
    "## *Q2* What is the geographical range of this species?\n"
   ]
  },
  {
   "cell_type": "code",
   "execution_count": 53,
   "id": "da580d8d-b8ea-4830-b1b4-d281b7379c7d",
   "metadata": {},
   "outputs": [
    {
     "data": {
      "text/plain": [
       "([0, 1, 2, 3, 4, 5, 6, 7, 8, 9, 10, 11],\n",
       " [Text(0, 0, 'Aptenodytes forsteri'),\n",
       "  Text(1, 0, 'Aptenodytes patagonicus'),\n",
       "  Text(2, 0, 'Eudyptes chrysocome'),\n",
       "  Text(3, 0, 'Eudyptes chrysolophus'),\n",
       "  Text(4, 0, 'Eudyptes sclateri'),\n",
       "  Text(5, 0, 'Eudyptula minor'),\n",
       "  Text(6, 0, 'Pygoscelis adeliae'),\n",
       "  Text(7, 0, 'Pygoscelis antarctica'),\n",
       "  Text(8, 0, 'Pygoscelis papua'),\n",
       "  Text(9, 0, 'Spheniscus demersus'),\n",
       "  Text(10, 0, 'Spheniscus humboldti'),\n",
       "  Text(11, 0, 'Spheniscus magellanicus')])"
      ]
     },
     "execution_count": 53,
     "metadata": {},
     "output_type": "execute_result"
    },
    {
     "data": {
      "image/png": "[encoded data removed]",
      "text/plain": [
       "<Figure size 576x360 with 1 Axes>"
      ]
     },
     "metadata": {
      "needs_background": "light"
     },
     "output_type": "display_data"
    }
   ],
   "source": [
    "import matplotlib.pyplot as plt\n",
    "plt.figure(figsize=(8, 5))\n",
    "mass_by_species = penguins_df.groupby(\"species\")[\"mass\"].mean()\n",
    "species = mass_by_species.index\n",
    "mass = mass_by_species.values\n",
    "plt.bar(species, mass, color=\"\", edgecolor=\"black\")\n",
    "plt.xlabel(\"Species\")\n",
    "plt.ylabel(\"Mass\")\n",
    "plt.xticks(rotation=45)"
   ]
  },
  {
   "cell_type": "markdown",
   "id": "0e59f072-722c-4e2c-90e5-5e9b185fe901",
   "metadata": {},
   "source": [
    "Q1: What is the smallest penguin species? "
   ]
  },
  {
   "cell_type": "code",
   "execution_count": 56,
   "id": "f70e8413-d652-47e7-b3f7-ae431d82b977",
   "metadata": {},
   "outputs": [
    {
     "name": "stdout",
     "output_type": "stream",
     "text": [
      "Smallest penguin species: Eudyptula minor (1.60 g)\n"
     ]
    }
   ],
   "source": [
    "min_mass_species = mass_by_species.idxmin()\n",
    "min_mass_value = mass_by_species.min()\n",
    "print(f\"Smallest penguin species: {min_mass_species} ({min_mass_value:.2f} g)\")"
   ]
  },
  {
   "cell_type": "code",
   "execution_count": 58,
   "id": "a7205a85-104b-45df-8c81-e56634a95947",
   "metadata": {},
   "outputs": [
    {
     "name": "stdout",
     "output_type": "stream",
     "text": [
      "Geographical range of smallest species: (Eudyptula minor): 49.26%\n"
     ]
    }
   ],
   "source": [
    "gc_value = penguins_df[penguins_df[\"species\"] == min_mass_species][\"gc_content\"].mean()\n",
    "print(f\"Geographical range of smallest species: ({min_mass_species}): {gc_value:.2f}%\")"
   ]
  },
  {
   "cell_type": "raw",
   "id": "e704afa7-2413-43fd-aabe-faad5b9cdeea",
   "metadata": {},
   "source": [
    "## 9 ##\n",
    "## Plot a visualization of the molecular weight (y-axis) as a function of GC-content (x-axis)."
   ]
  },
  {
   "cell_type": "code",
   "execution_count": 60,
   "id": "55b8d70d-15ee-4a48-93ae-dc8e7e5e2e46",
   "metadata": {},
   "outputs": [
    {
     "data": {
      "image/png": "[encoded data removed]",
      "text/plain": [
       "<Figure size 576x360 with 1 Axes>"
      ]
     },
     "metadata": {
      "needs_background": "light"
     },
     "output_type": "display_data"
    }
   ],
   "source": [
    "import matplotlib.pyplot as plt\n",
    "\n",
    "# Scatter plot\n",
    "plt.figure(figsize=(8, 5))\n",
    "plt.scatter(penguins_df['gc_content'], penguins_df['molecular_weight'], color='red', edgecolor='k')\n",
    "plt.xlabel('GC Content (%)')\n",
    "plt.ylabel('Molecular Weight')\n",
    "plt.title('Molecular Weight vs GC Content')\n",
    "plt.grid(True, linestyle='--', alpha=0.5)\n",
    "plt.tight_layout()\n",
    "plt.show()\n"
   ]
  },
  {
   "cell_type": "code",
   "execution_count": 61,
   "id": "97393bdd-fd5c-40e7-b974-f686d1d5e893",
   "metadata": {},
   "outputs": [],
   "source": [
    "## 10 ##\n",
    "## Save the new DataFrame to a file called \"penguins_mass_cytb.csv\""
   ]
  },
  {
   "cell_type": "code",
   "execution_count": 62,
   "id": "463bed3b-8062-4d50-bd52-466646c1f422",
   "metadata": {},
   "outputs": [],
   "source": [
    "penguins_df.to_csv('penguins_mass_cytb.csv', index=False)"
   ]
  },
  {
   "cell_type": "raw",
   "id": "153d8433-dd15-4251-b22b-5163ea9e1eec",
   "metadata": {},
   "source": [
    "## 11 - BONUS ##\n",
    "## What else can we do with this dataset in Python? \n",
    "## Add functions or anything that might be interesting and fun. (optional)"
   ]
  },
  {
   "cell_type": "code",
   "execution_count": 64,
   "id": "d196bece-a6e2-4e7d-aca5-336f8990d2b3",
   "metadata": {},
   "outputs": [
    {
     "name": "stderr",
     "output_type": "stream",
     "text": [
      "/scratch/vaish/6329308/ipykernel_518295/3133662156.py:9: FutureWarning: \n",
      "\n",
      "Passing `palette` without assigning `hue` is deprecated and will be removed in v0.14.0. Assign the `x` variable to `hue` and set `legend=False` for the same effect.\n",
      "\n",
      "  sns.violinplot(x='genus', y='gc_content', data=penguins_df, palette='Set2')\n"
     ]
    },
    {
     "data": {
      "image/png": "[encoded data removed]",
      "text/plain": [
       "<Figure size 720x432 with 1 Axes>"
      ]
     },
     "metadata": {
      "needs_background": "light"
     },
     "output_type": "display_data"
    }
   ],
   "source": [
    "import seaborn as sns\n",
    "import matplotlib.pyplot as plt\n",
    "\n",
    "# Add genus column\n",
    "penguins_df['genus'] = penguins_df['species'].apply(lambda x: x.split()[0])\n",
    "\n",
    "# Plot violin plot\n",
    "plt.figure(figsize=(10, 6))\n",
    "sns.violinplot(x='genus', y='gc_content', data=penguins_df, palette='Set2')\n",
    "plt.title('GC Content Distribution by Genus')\n",
    "plt.xlabel('Genus')\n",
    "plt.ylabel('GC Content (%)')\n",
    "plt.xticks(rotation=45)\n",
    "plt.grid(True, linestyle='--', alpha=0.3)\n",
    "plt.tight_layout()\n",
    "plt.show()\n"
   ]
  },
  {
   "cell_type": "code",
   "execution_count": null,
   "id": "ec66b6f4-ace5-4edd-ac43-05f751c8e5c0",
   "metadata": {},
   "outputs": [],
   "source": []
  }
 ],
 "metadata": {
  "kernelspec": {
   "display_name": "Python 3 (ipykernel)",
   "language": "python",
   "name": "python3"
  },
  "language_info": {
   "codemirror_mode": {
    "name": "ipython",
    "version": 3
   },
   "file_extension": ".py",
   "mimetype": "text/x-python",
   "name": "python",
   "nbconvert_exporter": "python",
   "pygments_lexer": "ipython3",
   "version": "3.10.2"
  }
 },
 "nbformat": 4,
 "nbformat_minor": 5
}
